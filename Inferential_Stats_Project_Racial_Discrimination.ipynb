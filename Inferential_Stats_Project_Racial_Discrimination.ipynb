{
 "cells": [
  {
   "cell_type": "markdown",
   "metadata": {},
   "source": [
    "# Examining Racial Discrimination in the US Job Market\n",
    "\n",
    "### Background\n",
    "Racial discrimination continues to be pervasive in cultures throughout the world. Researchers examined the level of racial discrimination in the United States labor market by randomly assigning identical résumés to black-sounding or white-sounding names and observing the impact on requests for interviews from employers.\n",
    "\n",
    "### Data\n",
    "In the dataset provided, each row represents a resume. The 'race' column has two values, 'b' and 'w', indicating black-sounding and white-sounding. The column 'call' has two values, 1 and 0, indicating whether the resume received a call from employers or not.\n",
    "\n",
    "Note that the 'b' and 'w' values in race are assigned randomly to the resumes when presented to the employer."
   ]
  },
  {
   "cell_type": "markdown",
   "metadata": {},
   "source": [
    "### Exercises\n",
    "You will perform a statistical analysis to establish whether race has a significant impact on the rate of callbacks for resumes.\n",
    "\n",
    "Answer the following questions **in this notebook below and submit to your Github account**. \n",
    "\n",
    "   1. What test is appropriate for this problem? Does CLT apply?\n",
    "   2. What are the null and alternate hypotheses?\n",
    "   3. Compute margin of error, confidence interval, and p-value. Try using both the bootstrapping and the frequentist statistical approaches.\n",
    "   4. Write a story describing the statistical significance in the context or the original problem.\n",
    "   5. Does your analysis mean that race/name is the most important factor in callback success? Why or why not? If not, how would you amend your analysis?"
   ]
  },
  {
   "cell_type": "code",
   "execution_count": 3,
   "metadata": {},
   "outputs": [],
   "source": [
    "import numpy as np\n",
    "import pandas as pd \n",
    "import matplotlib.pyplot as plt\n",
    "import seaborn as sns\n",
    "\n",
    "from scipy import stats\n",
    "\n",
    "%matplotlib inline"
   ]
  },
  {
   "cell_type": "code",
   "execution_count": 4,
   "metadata": {},
   "outputs": [],
   "source": [
    "data = pd.io.stata.read_stata('data/us_job_market_discrimination.dta')"
   ]
  },
  {
   "cell_type": "code",
   "execution_count": 5,
   "metadata": {},
   "outputs": [
    {
     "data": {
      "text/html": [
       "<div>\n",
       "<style scoped>\n",
       "    .dataframe tbody tr th:only-of-type {\n",
       "        vertical-align: middle;\n",
       "    }\n",
       "\n",
       "    .dataframe tbody tr th {\n",
       "        vertical-align: top;\n",
       "    }\n",
       "\n",
       "    .dataframe thead th {\n",
       "        text-align: right;\n",
       "    }\n",
       "</style>\n",
       "<table border=\"1\" class=\"dataframe\">\n",
       "  <thead>\n",
       "    <tr style=\"text-align: right;\">\n",
       "      <th></th>\n",
       "      <th>id</th>\n",
       "      <th>ad</th>\n",
       "      <th>education</th>\n",
       "      <th>ofjobs</th>\n",
       "      <th>yearsexp</th>\n",
       "      <th>honors</th>\n",
       "      <th>volunteer</th>\n",
       "      <th>military</th>\n",
       "      <th>empholes</th>\n",
       "      <th>occupspecific</th>\n",
       "      <th>...</th>\n",
       "      <th>compreq</th>\n",
       "      <th>orgreq</th>\n",
       "      <th>manuf</th>\n",
       "      <th>transcom</th>\n",
       "      <th>bankreal</th>\n",
       "      <th>trade</th>\n",
       "      <th>busservice</th>\n",
       "      <th>othservice</th>\n",
       "      <th>missind</th>\n",
       "      <th>ownership</th>\n",
       "    </tr>\n",
       "  </thead>\n",
       "  <tbody>\n",
       "    <tr>\n",
       "      <th>0</th>\n",
       "      <td>b</td>\n",
       "      <td>1</td>\n",
       "      <td>4</td>\n",
       "      <td>2</td>\n",
       "      <td>6</td>\n",
       "      <td>0</td>\n",
       "      <td>0</td>\n",
       "      <td>0</td>\n",
       "      <td>1</td>\n",
       "      <td>17</td>\n",
       "      <td>...</td>\n",
       "      <td>1.0</td>\n",
       "      <td>0.0</td>\n",
       "      <td>1.0</td>\n",
       "      <td>0.0</td>\n",
       "      <td>0.0</td>\n",
       "      <td>0.0</td>\n",
       "      <td>0.0</td>\n",
       "      <td>0.0</td>\n",
       "      <td>0.0</td>\n",
       "      <td></td>\n",
       "    </tr>\n",
       "    <tr>\n",
       "      <th>1</th>\n",
       "      <td>b</td>\n",
       "      <td>1</td>\n",
       "      <td>3</td>\n",
       "      <td>3</td>\n",
       "      <td>6</td>\n",
       "      <td>0</td>\n",
       "      <td>1</td>\n",
       "      <td>1</td>\n",
       "      <td>0</td>\n",
       "      <td>316</td>\n",
       "      <td>...</td>\n",
       "      <td>1.0</td>\n",
       "      <td>0.0</td>\n",
       "      <td>1.0</td>\n",
       "      <td>0.0</td>\n",
       "      <td>0.0</td>\n",
       "      <td>0.0</td>\n",
       "      <td>0.0</td>\n",
       "      <td>0.0</td>\n",
       "      <td>0.0</td>\n",
       "      <td></td>\n",
       "    </tr>\n",
       "  </tbody>\n",
       "</table>\n",
       "<p>2 rows × 65 columns</p>\n",
       "</div>"
      ],
      "text/plain": [
       "  id ad  education  ofjobs  yearsexp  honors  volunteer  military  empholes  \\\n",
       "0  b  1          4       2         6       0          0         0         1   \n",
       "1  b  1          3       3         6       0          1         1         0   \n",
       "\n",
       "   occupspecific    ...      compreq  orgreq  manuf  transcom  bankreal trade  \\\n",
       "0             17    ...          1.0     0.0    1.0       0.0       0.0   0.0   \n",
       "1            316    ...          1.0     0.0    1.0       0.0       0.0   0.0   \n",
       "\n",
       "  busservice othservice  missind  ownership  \n",
       "0        0.0        0.0      0.0             \n",
       "1        0.0        0.0      0.0             \n",
       "\n",
       "[2 rows x 65 columns]"
      ]
     },
     "execution_count": 5,
     "metadata": {},
     "output_type": "execute_result"
    }
   ],
   "source": [
    "data.head(2)"
   ]
  },
  {
   "cell_type": "code",
   "execution_count": 6,
   "metadata": {},
   "outputs": [
    {
     "data": {
      "text/html": [
       "<div>\n",
       "<style scoped>\n",
       "    .dataframe tbody tr th:only-of-type {\n",
       "        vertical-align: middle;\n",
       "    }\n",
       "\n",
       "    .dataframe tbody tr th {\n",
       "        vertical-align: top;\n",
       "    }\n",
       "\n",
       "    .dataframe thead th {\n",
       "        text-align: right;\n",
       "    }\n",
       "</style>\n",
       "<table border=\"1\" class=\"dataframe\">\n",
       "  <thead>\n",
       "    <tr style=\"text-align: right;\">\n",
       "      <th></th>\n",
       "      <th>id</th>\n",
       "      <th>ad</th>\n",
       "      <th>education</th>\n",
       "      <th>ofjobs</th>\n",
       "      <th>yearsexp</th>\n",
       "      <th>honors</th>\n",
       "      <th>volunteer</th>\n",
       "      <th>military</th>\n",
       "      <th>empholes</th>\n",
       "      <th>occupspecific</th>\n",
       "      <th>occupbroad</th>\n",
       "      <th>workinschool</th>\n",
       "      <th>email</th>\n",
       "      <th>computerskills</th>\n",
       "      <th>specialskills</th>\n",
       "      <th>firstname</th>\n",
       "      <th>sex</th>\n",
       "      <th>race</th>\n",
       "      <th>h</th>\n",
       "      <th>l</th>\n",
       "      <th>call</th>\n",
       "      <th>city</th>\n",
       "      <th>kind</th>\n",
       "      <th>adid</th>\n",
       "      <th>fracblack</th>\n",
       "      <th>fracwhite</th>\n",
       "      <th>lmedhhinc</th>\n",
       "      <th>fracdropout</th>\n",
       "      <th>fraccolp</th>\n",
       "      <th>linc</th>\n",
       "      <th>col</th>\n",
       "      <th>expminreq</th>\n",
       "      <th>schoolreq</th>\n",
       "      <th>eoe</th>\n",
       "      <th>parent_sales</th>\n",
       "      <th>parent_emp</th>\n",
       "      <th>branch_sales</th>\n",
       "      <th>branch_emp</th>\n",
       "      <th>fed</th>\n",
       "      <th>fracblack_empzip</th>\n",
       "      <th>fracwhite_empzip</th>\n",
       "      <th>lmedhhinc_empzip</th>\n",
       "      <th>fracdropout_empzip</th>\n",
       "      <th>fraccolp_empzip</th>\n",
       "      <th>linc_empzip</th>\n",
       "      <th>manager</th>\n",
       "      <th>supervisor</th>\n",
       "      <th>secretary</th>\n",
       "      <th>offsupport</th>\n",
       "      <th>salesrep</th>\n",
       "      <th>retailsales</th>\n",
       "      <th>req</th>\n",
       "      <th>expreq</th>\n",
       "      <th>comreq</th>\n",
       "      <th>educreq</th>\n",
       "      <th>compreq</th>\n",
       "      <th>orgreq</th>\n",
       "      <th>manuf</th>\n",
       "      <th>transcom</th>\n",
       "      <th>bankreal</th>\n",
       "      <th>trade</th>\n",
       "      <th>busservice</th>\n",
       "      <th>othservice</th>\n",
       "      <th>missind</th>\n",
       "      <th>ownership</th>\n",
       "    </tr>\n",
       "  </thead>\n",
       "  <tbody>\n",
       "    <tr>\n",
       "      <th>0</th>\n",
       "      <td>b</td>\n",
       "      <td>1</td>\n",
       "      <td>4</td>\n",
       "      <td>2</td>\n",
       "      <td>6</td>\n",
       "      <td>0</td>\n",
       "      <td>0</td>\n",
       "      <td>0</td>\n",
       "      <td>1</td>\n",
       "      <td>17</td>\n",
       "      <td>1</td>\n",
       "      <td>0</td>\n",
       "      <td>0</td>\n",
       "      <td>1</td>\n",
       "      <td>0</td>\n",
       "      <td>Allison</td>\n",
       "      <td>f</td>\n",
       "      <td>w</td>\n",
       "      <td>0.0</td>\n",
       "      <td>1.0</td>\n",
       "      <td>0.0</td>\n",
       "      <td>c</td>\n",
       "      <td>a</td>\n",
       "      <td>384.0</td>\n",
       "      <td>0.989360</td>\n",
       "      <td>0.005500</td>\n",
       "      <td>9.527484</td>\n",
       "      <td>0.274151</td>\n",
       "      <td>0.037662</td>\n",
       "      <td>8.706325</td>\n",
       "      <td>1.0</td>\n",
       "      <td>5</td>\n",
       "      <td></td>\n",
       "      <td>1.0</td>\n",
       "      <td>NaN</td>\n",
       "      <td>NaN</td>\n",
       "      <td>NaN</td>\n",
       "      <td>NaN</td>\n",
       "      <td>NaN</td>\n",
       "      <td>NaN</td>\n",
       "      <td>NaN</td>\n",
       "      <td>NaN</td>\n",
       "      <td>NaN</td>\n",
       "      <td>NaN</td>\n",
       "      <td>NaN</td>\n",
       "      <td>0.0</td>\n",
       "      <td>1.0</td>\n",
       "      <td>0.0</td>\n",
       "      <td>0.0</td>\n",
       "      <td>0.0</td>\n",
       "      <td>0.0</td>\n",
       "      <td>1.0</td>\n",
       "      <td>1.0</td>\n",
       "      <td>0.0</td>\n",
       "      <td>0.0</td>\n",
       "      <td>1.0</td>\n",
       "      <td>0.0</td>\n",
       "      <td>1.0</td>\n",
       "      <td>0.0</td>\n",
       "      <td>0.0</td>\n",
       "      <td>0.0</td>\n",
       "      <td>0.0</td>\n",
       "      <td>0.0</td>\n",
       "      <td>0.0</td>\n",
       "      <td></td>\n",
       "    </tr>\n",
       "    <tr>\n",
       "      <th>1</th>\n",
       "      <td>b</td>\n",
       "      <td>1</td>\n",
       "      <td>3</td>\n",
       "      <td>3</td>\n",
       "      <td>6</td>\n",
       "      <td>0</td>\n",
       "      <td>1</td>\n",
       "      <td>1</td>\n",
       "      <td>0</td>\n",
       "      <td>316</td>\n",
       "      <td>6</td>\n",
       "      <td>1</td>\n",
       "      <td>1</td>\n",
       "      <td>1</td>\n",
       "      <td>0</td>\n",
       "      <td>Kristen</td>\n",
       "      <td>f</td>\n",
       "      <td>w</td>\n",
       "      <td>1.0</td>\n",
       "      <td>0.0</td>\n",
       "      <td>0.0</td>\n",
       "      <td>c</td>\n",
       "      <td>a</td>\n",
       "      <td>384.0</td>\n",
       "      <td>0.080736</td>\n",
       "      <td>0.888374</td>\n",
       "      <td>10.408828</td>\n",
       "      <td>0.233687</td>\n",
       "      <td>0.087285</td>\n",
       "      <td>9.532859</td>\n",
       "      <td>0.0</td>\n",
       "      <td>5</td>\n",
       "      <td></td>\n",
       "      <td>1.0</td>\n",
       "      <td>NaN</td>\n",
       "      <td>NaN</td>\n",
       "      <td>NaN</td>\n",
       "      <td>NaN</td>\n",
       "      <td>NaN</td>\n",
       "      <td>NaN</td>\n",
       "      <td>NaN</td>\n",
       "      <td>NaN</td>\n",
       "      <td>NaN</td>\n",
       "      <td>NaN</td>\n",
       "      <td>NaN</td>\n",
       "      <td>0.0</td>\n",
       "      <td>1.0</td>\n",
       "      <td>0.0</td>\n",
       "      <td>0.0</td>\n",
       "      <td>0.0</td>\n",
       "      <td>0.0</td>\n",
       "      <td>1.0</td>\n",
       "      <td>1.0</td>\n",
       "      <td>0.0</td>\n",
       "      <td>0.0</td>\n",
       "      <td>1.0</td>\n",
       "      <td>0.0</td>\n",
       "      <td>1.0</td>\n",
       "      <td>0.0</td>\n",
       "      <td>0.0</td>\n",
       "      <td>0.0</td>\n",
       "      <td>0.0</td>\n",
       "      <td>0.0</td>\n",
       "      <td>0.0</td>\n",
       "      <td></td>\n",
       "    </tr>\n",
       "    <tr>\n",
       "      <th>2</th>\n",
       "      <td>b</td>\n",
       "      <td>1</td>\n",
       "      <td>4</td>\n",
       "      <td>1</td>\n",
       "      <td>6</td>\n",
       "      <td>0</td>\n",
       "      <td>0</td>\n",
       "      <td>0</td>\n",
       "      <td>0</td>\n",
       "      <td>19</td>\n",
       "      <td>1</td>\n",
       "      <td>1</td>\n",
       "      <td>0</td>\n",
       "      <td>1</td>\n",
       "      <td>0</td>\n",
       "      <td>Lakisha</td>\n",
       "      <td>f</td>\n",
       "      <td>b</td>\n",
       "      <td>0.0</td>\n",
       "      <td>1.0</td>\n",
       "      <td>0.0</td>\n",
       "      <td>c</td>\n",
       "      <td>a</td>\n",
       "      <td>384.0</td>\n",
       "      <td>0.104301</td>\n",
       "      <td>0.837370</td>\n",
       "      <td>10.466754</td>\n",
       "      <td>0.101335</td>\n",
       "      <td>0.591695</td>\n",
       "      <td>10.540329</td>\n",
       "      <td>1.0</td>\n",
       "      <td>5</td>\n",
       "      <td></td>\n",
       "      <td>1.0</td>\n",
       "      <td>NaN</td>\n",
       "      <td>NaN</td>\n",
       "      <td>NaN</td>\n",
       "      <td>NaN</td>\n",
       "      <td>NaN</td>\n",
       "      <td>NaN</td>\n",
       "      <td>NaN</td>\n",
       "      <td>NaN</td>\n",
       "      <td>NaN</td>\n",
       "      <td>NaN</td>\n",
       "      <td>NaN</td>\n",
       "      <td>0.0</td>\n",
       "      <td>1.0</td>\n",
       "      <td>0.0</td>\n",
       "      <td>0.0</td>\n",
       "      <td>0.0</td>\n",
       "      <td>0.0</td>\n",
       "      <td>1.0</td>\n",
       "      <td>1.0</td>\n",
       "      <td>0.0</td>\n",
       "      <td>0.0</td>\n",
       "      <td>1.0</td>\n",
       "      <td>0.0</td>\n",
       "      <td>1.0</td>\n",
       "      <td>0.0</td>\n",
       "      <td>0.0</td>\n",
       "      <td>0.0</td>\n",
       "      <td>0.0</td>\n",
       "      <td>0.0</td>\n",
       "      <td>0.0</td>\n",
       "      <td></td>\n",
       "    </tr>\n",
       "  </tbody>\n",
       "</table>\n",
       "</div>"
      ],
      "text/plain": [
       "  id ad  education  ofjobs  yearsexp  honors  volunteer  military  empholes  \\\n",
       "0  b  1          4       2         6       0          0         0         1   \n",
       "1  b  1          3       3         6       0          1         1         0   \n",
       "2  b  1          4       1         6       0          0         0         0   \n",
       "\n",
       "   occupspecific  occupbroad  workinschool  email  computerskills  \\\n",
       "0             17           1             0      0               1   \n",
       "1            316           6             1      1               1   \n",
       "2             19           1             1      0               1   \n",
       "\n",
       "   specialskills firstname sex race    h    l  call city kind   adid  \\\n",
       "0              0   Allison   f    w  0.0  1.0   0.0    c    a  384.0   \n",
       "1              0   Kristen   f    w  1.0  0.0   0.0    c    a  384.0   \n",
       "2              0   Lakisha   f    b  0.0  1.0   0.0    c    a  384.0   \n",
       "\n",
       "   fracblack  fracwhite  lmedhhinc  fracdropout  fraccolp       linc  col  \\\n",
       "0   0.989360   0.005500   9.527484     0.274151  0.037662   8.706325  1.0   \n",
       "1   0.080736   0.888374  10.408828     0.233687  0.087285   9.532859  0.0   \n",
       "2   0.104301   0.837370  10.466754     0.101335  0.591695  10.540329  1.0   \n",
       "\n",
       "  expminreq schoolreq  eoe  parent_sales  parent_emp  branch_sales  \\\n",
       "0         5            1.0           NaN         NaN           NaN   \n",
       "1         5            1.0           NaN         NaN           NaN   \n",
       "2         5            1.0           NaN         NaN           NaN   \n",
       "\n",
       "   branch_emp  fed  fracblack_empzip  fracwhite_empzip  lmedhhinc_empzip  \\\n",
       "0         NaN  NaN               NaN               NaN               NaN   \n",
       "1         NaN  NaN               NaN               NaN               NaN   \n",
       "2         NaN  NaN               NaN               NaN               NaN   \n",
       "\n",
       "   fracdropout_empzip  fraccolp_empzip  linc_empzip  manager  supervisor  \\\n",
       "0                 NaN              NaN          NaN      0.0         1.0   \n",
       "1                 NaN              NaN          NaN      0.0         1.0   \n",
       "2                 NaN              NaN          NaN      0.0         1.0   \n",
       "\n",
       "   secretary  offsupport  salesrep  retailsales  req  expreq  comreq  educreq  \\\n",
       "0        0.0         0.0       0.0          0.0  1.0     1.0     0.0      0.0   \n",
       "1        0.0         0.0       0.0          0.0  1.0     1.0     0.0      0.0   \n",
       "2        0.0         0.0       0.0          0.0  1.0     1.0     0.0      0.0   \n",
       "\n",
       "   compreq  orgreq  manuf  transcom  bankreal  trade  busservice  othservice  \\\n",
       "0      1.0     0.0    1.0       0.0       0.0    0.0         0.0         0.0   \n",
       "1      1.0     0.0    1.0       0.0       0.0    0.0         0.0         0.0   \n",
       "2      1.0     0.0    1.0       0.0       0.0    0.0         0.0         0.0   \n",
       "\n",
       "   missind ownership  \n",
       "0      0.0            \n",
       "1      0.0            \n",
       "2      0.0            "
      ]
     },
     "execution_count": 6,
     "metadata": {},
     "output_type": "execute_result"
    }
   ],
   "source": [
    "# Set options to inspect all of the columns\n",
    "pd.options.display.max_columns = 65 \n",
    "\n",
    "# Inspect the structure of the dataframe\n",
    "data.head(3)"
   ]
  },
  {
   "cell_type": "code",
   "execution_count": 7,
   "metadata": {},
   "outputs": [
    {
     "data": {
      "text/html": [
       "<div>\n",
       "<style scoped>\n",
       "    .dataframe tbody tr th:only-of-type {\n",
       "        vertical-align: middle;\n",
       "    }\n",
       "\n",
       "    .dataframe tbody tr th {\n",
       "        vertical-align: top;\n",
       "    }\n",
       "\n",
       "    .dataframe thead th {\n",
       "        text-align: right;\n",
       "    }\n",
       "</style>\n",
       "<table border=\"1\" class=\"dataframe\">\n",
       "  <thead>\n",
       "    <tr style=\"text-align: right;\">\n",
       "      <th></th>\n",
       "      <th>call</th>\n",
       "      <th>race</th>\n",
       "    </tr>\n",
       "  </thead>\n",
       "  <tbody>\n",
       "    <tr>\n",
       "      <th>0</th>\n",
       "      <td>0.0</td>\n",
       "      <td>w</td>\n",
       "    </tr>\n",
       "    <tr>\n",
       "      <th>1</th>\n",
       "      <td>0.0</td>\n",
       "      <td>w</td>\n",
       "    </tr>\n",
       "    <tr>\n",
       "      <th>2</th>\n",
       "      <td>0.0</td>\n",
       "      <td>b</td>\n",
       "    </tr>\n",
       "    <tr>\n",
       "      <th>3</th>\n",
       "      <td>0.0</td>\n",
       "      <td>b</td>\n",
       "    </tr>\n",
       "    <tr>\n",
       "      <th>4</th>\n",
       "      <td>0.0</td>\n",
       "      <td>w</td>\n",
       "    </tr>\n",
       "    <tr>\n",
       "      <th>5</th>\n",
       "      <td>0.0</td>\n",
       "      <td>w</td>\n",
       "    </tr>\n",
       "    <tr>\n",
       "      <th>6</th>\n",
       "      <td>0.0</td>\n",
       "      <td>w</td>\n",
       "    </tr>\n",
       "  </tbody>\n",
       "</table>\n",
       "</div>"
      ],
      "text/plain": [
       "   call race\n",
       "0   0.0    w\n",
       "1   0.0    w\n",
       "2   0.0    b\n",
       "3   0.0    b\n",
       "4   0.0    w\n",
       "5   0.0    w\n",
       "6   0.0    w"
      ]
     },
     "execution_count": 7,
     "metadata": {},
     "output_type": "execute_result"
    }
   ],
   "source": [
    "data[['call','race']].head(7)"
   ]
  },
  {
   "cell_type": "code",
   "execution_count": 8,
   "metadata": {},
   "outputs": [
    {
     "name": "stdout",
     "output_type": "stream",
     "text": [
      "<class 'pandas.core.frame.DataFrame'>\n",
      "Int64Index: 4870 entries, 0 to 4869\n",
      "Data columns (total 2 columns):\n",
      "call    4870 non-null float32\n",
      "race    4870 non-null object\n",
      "dtypes: float32(1), object(1)\n",
      "memory usage: 95.1+ KB\n"
     ]
    }
   ],
   "source": [
    "data[['call','race']].info()"
   ]
  },
  {
   "cell_type": "code",
   "execution_count": 9,
   "metadata": {},
   "outputs": [
    {
     "data": {
      "text/plain": [
       "0"
      ]
     },
     "execution_count": 9,
     "metadata": {},
     "output_type": "execute_result"
    }
   ],
   "source": [
    "# Check for duplicate observations:\n",
    "data.duplicated().sum()"
   ]
  },
  {
   "cell_type": "code",
   "execution_count": 10,
   "metadata": {},
   "outputs": [
    {
     "data": {
      "text/plain": [
       "race    0\n",
       "call    0\n",
       "dtype: int64"
      ]
     },
     "execution_count": 10,
     "metadata": {},
     "output_type": "execute_result"
    }
   ],
   "source": [
    "# Check for null values:\n",
    "data[['race','call']].isnull().sum()"
   ]
  },
  {
   "cell_type": "code",
   "execution_count": 11,
   "metadata": {},
   "outputs": [
    {
     "name": "stderr",
     "output_type": "stream",
     "text": [
      "/Users/amy/anaconda3/lib/python3.7/site-packages/scipy/stats/stats.py:1713: FutureWarning: Using a non-tuple sequence for multidimensional indexing is deprecated; use `arr[tuple(seq)]` instead of `arr[seq]`. In the future this will be interpreted as an array index, `arr[np.array(seq)]`, which will result either in an error or a different result.\n",
      "  return np.add.reduce(sorted[indexer] * weights, axis=axis) / sumval\n"
     ]
    },
    {
     "data": {
      "image/png": "[encoded data removed]",
      "text/plain": [
       "<Figure size 432x288 with 1 Axes>"
      ]
     },
     "metadata": {
      "needs_background": "light"
     },
     "output_type": "display_data"
    },
    {
     "data": {
      "image/png": "[encoded data removed]",
      "text/plain": [
       "<Figure size 432x288 with 1 Axes>"
      ]
     },
     "metadata": {
      "needs_background": "light"
     },
     "output_type": "display_data"
    }
   ],
   "source": [
    "\n",
    "sns.barplot(x=\"race\",y=\"call\",data=data)\n",
    "plt.title(\"Mean of callbacks vs. Race\")\n",
    "plt.show()\n",
    "\n",
    "sns.lineplot(x=\"race\",y=\"call\",data=data)\n",
    "plt.title(\"Mean of callbacks vs. Years of experience\")\n",
    "plt.show()"
   ]
  },
  {
   "cell_type": "code",
   "execution_count": null,
   "metadata": {},
   "outputs": [],
   "source": []
  },
  {
   "cell_type": "markdown",
   "metadata": {},
   "source": [
    "## Task-1: What test is appropriate for this problem? Does CLT apply?"
   ]
  },
  {
   "cell_type": "markdown",
   "metadata": {},
   "source": [
    "### a- First method (crosstab func): "
   ]
  },
  {
   "cell_type": "code",
   "execution_count": 12,
   "metadata": {},
   "outputs": [],
   "source": [
    "call_table = pd.crosstab(data['call'],data['race'],margins=True)\n",
    "\n",
    "# Label the index column:\n",
    "call_table.index=['No','Yes', 'Total']\n",
    "\n",
    "# Label the header row:\n",
    "call_table.columns = ['Black', 'White', 'Total']"
   ]
  },
  {
   "cell_type": "code",
   "execution_count": 13,
   "metadata": {},
   "outputs": [
    {
     "data": {
      "text/html": [
       "<div>\n",
       "<style scoped>\n",
       "    .dataframe tbody tr th:only-of-type {\n",
       "        vertical-align: middle;\n",
       "    }\n",
       "\n",
       "    .dataframe tbody tr th {\n",
       "        vertical-align: top;\n",
       "    }\n",
       "\n",
       "    .dataframe thead th {\n",
       "        text-align: right;\n",
       "    }\n",
       "</style>\n",
       "<table border=\"1\" class=\"dataframe\">\n",
       "  <thead>\n",
       "    <tr style=\"text-align: right;\">\n",
       "      <th></th>\n",
       "      <th>Black</th>\n",
       "      <th>White</th>\n",
       "      <th>Total</th>\n",
       "    </tr>\n",
       "  </thead>\n",
       "  <tbody>\n",
       "    <tr>\n",
       "      <th>No</th>\n",
       "      <td>2278</td>\n",
       "      <td>2200</td>\n",
       "      <td>4478</td>\n",
       "    </tr>\n",
       "    <tr>\n",
       "      <th>Yes</th>\n",
       "      <td>157</td>\n",
       "      <td>235</td>\n",
       "      <td>392</td>\n",
       "    </tr>\n",
       "    <tr>\n",
       "      <th>Total</th>\n",
       "      <td>2435</td>\n",
       "      <td>2435</td>\n",
       "      <td>4870</td>\n",
       "    </tr>\n",
       "  </tbody>\n",
       "</table>\n",
       "</div>"
      ],
      "text/plain": [
       "       Black  White  Total\n",
       "No      2278   2200   4478\n",
       "Yes      157    235    392\n",
       "Total   2435   2435   4870"
      ]
     },
     "execution_count": 13,
     "metadata": {},
     "output_type": "execute_result"
    }
   ],
   "source": [
    "call_table"
   ]
  },
  {
   "cell_type": "markdown",
   "metadata": {},
   "source": [
    "### b- Second method (groupby func): "
   ]
  },
  {
   "cell_type": "code",
   "execution_count": 14,
   "metadata": {},
   "outputs": [
    {
     "name": "stdout",
     "output_type": "stream",
     "text": [
      "The number of calls for black-sounding and white-sounding resumes:  race\n",
      "b    157.0\n",
      "w    235.0\n",
      "Name: call, dtype: float32\n"
     ]
    }
   ],
   "source": [
    "# Group data by 'race': by_race\n",
    "by_race = data.groupby('race')\n",
    "\n",
    "# Compute the sum of the 'call' of by_race: by_race_sum\n",
    "by_race_sum = by_race['call'].sum()\n",
    "print(\"The number of calls for black-sounding and white-sounding resumes: \", by_race_sum)"
   ]
  },
  {
   "cell_type": "markdown",
   "metadata": {},
   "source": [
    "### c- Third method: "
   ]
  },
  {
   "cell_type": "code",
   "execution_count": 15,
   "metadata": {},
   "outputs": [],
   "source": [
    "# These two lines of codes give the same result.\n",
    "# len(data[data['race']=='b'][data['call']==1])\n",
    "# len(data.loc[data['race']=='b'].loc[data['call']==1])"
   ]
  },
  {
   "cell_type": "code",
   "execution_count": 16,
   "metadata": {},
   "outputs": [
    {
     "name": "stdout",
     "output_type": "stream",
     "text": [
      " The number of black-sounding resumes: 2435 \n",
      " The number of calls for black-sounding resumes: 157\n",
      "\n",
      "\n",
      " The number of white-sounding resumes: 2435 \n",
      " The number of calls for black-sounding resumes: 235\n"
     ]
    }
   ],
   "source": [
    "# Check for the total number of black-sounding names and the total number of calls for black-sounding resumes\n",
    "\n",
    "print (\" The number of black-sounding resumes:\", len (data.race[data.race == 'b']), \"\\n\",\n",
    "       \"The number of calls for black-sounding resumes:\", len(data.loc[data['race']=='b'].loc[data['call']==1]))\n",
    "\n",
    "print (\"\\n\")\n",
    "\n",
    "# Check for the total number of black-sounding names and the total number of calls for black-sounding resumes\n",
    "\n",
    "print (\" The number of white-sounding resumes:\", len (data.race[data.race == 'w']), \"\\n\",\n",
    "       \"The number of calls for black-sounding resumes:\", len(data.loc[data['race']=='w'].loc[data['call']==1]))"
   ]
  },
  {
   "cell_type": "markdown",
   "metadata": {},
   "source": [
    "**Conclusion:**\n",
    "> To figure out the 'black' and 'white' resume amounts and call backs we grouped by race and call. Both has 2435 resumes, but black got 157 calls while white got 235 calls.\n",
    "\n",
    "> Since the rate of callbacks for the two groups is compared, a two-proportion z-test is appropriate as both of them are larger than 30.\n",
    "\n",
    "> Central Limit Theorem (CLT) states that regardless of the population, the distribution of sample averages tends to be normal. This holds for sample sizes greater than or equal to 30. Since the size of the data is big enough and 'black' and 'white' values in race are assigned randomly to the resumes when presented to the employer, CLT could be applied here assuming that samples are respresenting the population."
   ]
  },
  {
   "cell_type": "markdown",
   "metadata": {},
   "source": [
    "## Task-2: What are the null and alternate hypotheses?"
   ]
  },
  {
   "cell_type": "markdown",
   "metadata": {},
   "source": [
    "As observed above, it is obvious that white-sounding names received more callbacks than black-sounding names, but is the difference significant? \n",
    "\n",
    "Here is the important point to define the null and alternative hypothesis:\n",
    "\n",
    "If testing something assumed to be true, the null hypothesis can reflect the assumption.\n",
    "If testing a claim we want to be true, but can't assume, we test its opposite.\n",
    "\n",
    "In the context of provided background information, the alternative hypothesis assumes that racial discrimination is pervasive enough to be a factor in the job market.\n",
    "Null Hypothesis: There is no difference in the proportion of callbacks for white-sounding names and the proportion of callbacks for black-sounding names:\n",
    "\n",
    "$$H_0: \\hat p_{white\\_callbacks} - \\hat p_{black\\_callbacks} = 0$$\n",
    "\n",
    "Alternative Hypothesis: There is a significant difference in the proportion of callbacks for white-sounding names and the proportion of callbacks for black-sounding names:\n",
    "\n",
    "$$H_a: {\\hat p_{white\\_callbacks}} - {\\hat p_{black\\_callbacks}} \\neq 0$$\n",
    "Significance Level: 95% Confidence:"
   ]
  },
  {
   "cell_type": "markdown",
   "metadata": {},
   "source": [
    "## Task-3: Compute margin of error, confidence interval, and p-value. Try using both the bootstrapping and the frequentist statistical approaches."
   ]
  },
  {
   "cell_type": "markdown",
   "metadata": {},
   "source": [
    "### a- Bootstrapping approach:"
   ]
  },
  {
   "cell_type": "markdown",
   "metadata": {},
   "source": [
    "**i. First method (permutation):**"
   ]
  },
  {
   "cell_type": "code",
   "execution_count": 22,
   "metadata": {},
   "outputs": [],
   "source": [
    "def bootstrap_replicate_1d(data, func):\n",
    "   ...:     \"\"\"Generate bootstrap replicate of 1D data.\"\"\"\n",
    "   ...:     bs_sample = np.random.choice(data, len(data))\n",
    "   ...:     return func(bs_sample)"
   ]
  },
  {
   "cell_type": "code",
   "execution_count": 23,
   "metadata": {},
   "outputs": [],
   "source": [
    "def draw_bs_reps(data, func, size=1):\n",
    "    \"\"\"Draw bootstrap replicates.\"\"\"\n",
    "\n",
    "    # Initialize array of replicates: bs_replicates\n",
    "    bs_replicates = np.empty(size)\n",
    "\n",
    "    # Generate replicates\n",
    "    for i in range(size):\n",
    "        bs_replicates[i] = bootstrap_replicate_1d(data, func)\n",
    "\n",
    "    return bs_replicates"
   ]
  },
  {
   "cell_type": "code",
   "execution_count": 24,
   "metadata": {},
   "outputs": [
    {
     "name": "stdout",
     "output_type": "stream",
     "text": [
      "p-value = 0.0\n"
     ]
    }
   ],
   "source": [
    "black= data[data.race=='b']['call']\n",
    "white= data[data.race=='w']['call']\n",
    "\n",
    "# Compute the difference in mean sperm count: diff_means\n",
    "diff_means = np.mean(white) - np.mean(black)\n",
    "\n",
    "\n",
    "# Compute mean of pooled data: mean_count\n",
    "mean_count = np.mean(np.concatenate((white , black)))\n",
    "\n",
    "# Generate shifted data sets\n",
    "white_shifted = white - np.mean(white) + mean_count\n",
    "black_shifted = black - np.mean(black) + mean_count\n",
    "\n",
    "# Generate bootstrap replicates\n",
    "bs_reps_white = draw_bs_reps(white_shifted,\n",
    "                               np.mean, size=10000)\n",
    "bs_reps_black = draw_bs_reps(black_shifted,\n",
    "                               np.mean, size=10000)\n",
    "\n",
    "# Get replicates of difference of means: bs_replicates\n",
    "bs_replicates = bs_reps_white - bs_reps_black\n",
    "\n",
    "# Compute and print p-value: p\n",
    "p = np.sum(bs_replicates >= np.mean(white) - np.mean(black)) \\\n",
    "            / len(bs_replicates)\n",
    "print('p-value =', p)"
   ]
  },
  {
   "cell_type": "code",
   "execution_count": 25,
   "metadata": {},
   "outputs": [
    {
     "name": "stdout",
     "output_type": "stream",
     "text": [
      "95% conf. int.: [-0.01519511  0.01519505]\n"
     ]
    }
   ],
   "source": [
    "bs_ci = np.percentile(bs_replicates, [2.5, 97.5])\n",
    "print ('95% conf. int.:',bs_ci)"
   ]
  },
  {
   "cell_type": "markdown",
   "metadata": {},
   "source": [
    "**ii. Second method (permutation):**"
   ]
  },
  {
   "cell_type": "code",
   "execution_count": 60,
   "metadata": {},
   "outputs": [],
   "source": [
    "# Define difference function to compute difference in proportions\n",
    "def diff_of_p(x,y):\n",
    "    return abs(np.sum(x) - np.sum(y))"
   ]
  },
  {
   "cell_type": "code",
   "execution_count": 61,
   "metadata": {},
   "outputs": [],
   "source": [
    "# Define bootstrap function that randomly split data\n",
    "def bs_split_data(data, func, size=1):\n",
    "    \n",
    "    # Initialize replicates\n",
    "    bs_replicates = np.empty(size)\n",
    "    \n",
    "    for i in range(size):\n",
    "        # Permutate the concatenated array: permutated_data\n",
    "        permuted_data = np.random.permutation(data)\n",
    "        \n",
    "        # Split the permuted array into two: perm_sample_1, perm_sample_2\n",
    "        # Assume data can be split into even numbers\n",
    "        half_count = int(len(data)/2)\n",
    "        perm_sample_1 = permuted_data[:half_count]\n",
    "        perm_sample_2 = permuted_data[half_count:]\n",
    "        \n",
    "        # Call function\n",
    "        bs_replicates[i] = func(perm_sample_1/half_count, perm_sample_2/half_count)\n",
    "        \n",
    "    return bs_replicates"
   ]
  },
  {
   "cell_type": "code",
   "execution_count": 62,
   "metadata": {},
   "outputs": [
    {
     "name": "stdout",
     "output_type": "stream",
     "text": [
      "p-value = 0.0001\n"
     ]
    }
   ],
   "source": [
    "# Defining variables\n",
    "\n",
    "black_call_mean = data[data.race=='b']['call'].mean()\n",
    "white_call_mean = data[data.race=='w']['call'].mean()\n",
    "\n",
    "# Acquire 10000 bootstrap replicates using difference of proprotion\n",
    "bs_replicates = bs_split_data(data.call, diff_of_p, size=10000)\n",
    "\n",
    "bs_p_value = np.sum(bs_replicates>=diff_of_p(white_call_mean, black_call_mean))/len(bs_replicates)\n",
    "\n",
    "print(\"p-value =\", bs_p_value)"
   ]
  },
  {
   "cell_type": "code",
   "execution_count": 69,
   "metadata": {},
   "outputs": [
    {
     "name": "stdout",
     "output_type": "stream",
     "text": [
      "95% conf. int.: [7.45058060e-09 1.72484666e-02]\n"
     ]
    }
   ],
   "source": [
    "bs_ci = np.percentile(bs_replicates, [2.5, 97.5])\n",
    "print ('95% conf. int.:',bs_ci)"
   ]
  },
  {
   "cell_type": "markdown",
   "metadata": {},
   "source": [
    "**iii. Third method (for loop):**"
   ]
  },
  {
   "cell_type": "code",
   "execution_count": 65,
   "metadata": {},
   "outputs": [
    {
     "name": "stdout",
     "output_type": "stream",
     "text": [
      "BOOTSTRAP RESULTS\n",
      "p-value: 0.0\n",
      "95% conf. int.: [-0.01519507  0.01478439]\n"
     ]
    }
   ],
   "source": [
    "diff_mean = w_call_mean - b_call_mean\n",
    "\n",
    "# Construct arrays of data: white-sounding names, black-sounding names\n",
    "calls=np.sum(data.call[data.call==1])\n",
    "all_callbacks = np.array([True] * int(calls) + [False] * int(len(data)-calls))\n",
    "\n",
    "size = 10000\n",
    "\n",
    "bs_reps_diff = np.empty(size)\n",
    "\n",
    "for i in range(size):\n",
    "    w_bs_replicates = np.sum(np.random.choice(all_callbacks, size=len(w)))\n",
    "    b_bs_replicates = np.sum(np.random.choice(all_callbacks, size=len(b)))\n",
    "    \n",
    "    bs_reps_diff[i] = (w_bs_replicates - b_bs_replicates)/len(b)\n",
    "    \n",
    "bs_p_value = np.sum(bs_reps_diff >= diff_mean) / len(bs_reps_diff)\n",
    "\n",
    "bs_ci = np.percentile(bs_reps_diff, [2.5, 97.5])\n",
    "bs_mean_diff = np.mean(bs_reps_diff)\n",
    "\n",
    "print('BOOTSTRAP RESULTS\\np-value: {}\\n95% conf. int.: {}'.format(bs_p_value, bs_ci))"
   ]
  },
  {
   "cell_type": "markdown",
   "metadata": {},
   "source": [
    "### b. Frequentist Statical Approach"
   ]
  },
  {
   "cell_type": "markdown",
   "metadata": {},
   "source": [
    "**i. First Approach**"
   ]
  },
  {
   "cell_type": "code",
   "execution_count": 70,
   "metadata": {},
   "outputs": [
    {
     "name": "stdout",
     "output_type": "stream",
     "text": [
      "Black mean: 0.0644763857126236\n",
      "White mean: 0.09650924056768417\n",
      "Difference of mean between white and black: 0.03203285485506058\n"
     ]
    }
   ],
   "source": [
    "# Assign black and white race into variables\n",
    "b = data[data.race == 'b']\n",
    "w = data[data.race == 'w']\n",
    "\n",
    "# Find the mean for black and white\n",
    "b_call_mean = b.call.mean()\n",
    "w_call_mean = w.call.mean()\n",
    "print ('Black mean: {}'.format(b_call_mean))\n",
    "print ('White mean: {}'.format(w_call_mean))\n",
    "\n",
    "# Find the difference of mean for black and white\n",
    "diff_mean = w_call_mean - b_call_mean\n",
    "print ('Difference of mean between white and black: {}'.format(diff_mean))"
   ]
  },
  {
   "cell_type": "markdown",
   "metadata": {},
   "source": [
    "    **z-score**"
   ]
  },
  {
   "cell_type": "code",
   "execution_count": 73,
   "metadata": {},
   "outputs": [
    {
     "name": "stdout",
     "output_type": "stream",
     "text": [
      "z score:4.108412235238472\n"
     ]
    }
   ],
   "source": [
    "w_call = np.sum(data[data.race=='w'].call)\n",
    "b_call = np.sum(data[data.race=='b'].call)\n",
    "w_ln = len(data[data.race=='w'])\n",
    "b_ln = len(data[data.race=='b'])            \n",
    "phat = (w_call + b_call) / (w_ln + b_ln)\n",
    "z = (diff_mean) / np.sqrt(phat * (1 - phat) * (( 1/ float(w_ln)) + (1/float(b_ln))))\n",
    "print ('z score:{}'.format(z))"
   ]
  },
  {
   "cell_type": "markdown",
   "metadata": {},
   "source": [
    "    **p-value**"
   ]
  },
  {
   "cell_type": "code",
   "execution_count": 74,
   "metadata": {},
   "outputs": [
    {
     "name": "stdout",
     "output_type": "stream",
     "text": [
      "p-value:3.983885409504418e-05\n"
     ]
    }
   ],
   "source": [
    "p = stats.norm.cdf(-z)*2\n",
    "print ('p-value:{}'.format(p))"
   ]
  },
  {
   "cell_type": "markdown",
   "metadata": {},
   "source": [
    "    **margin of error**"
   ]
  },
  {
   "cell_type": "code",
   "execution_count": 75,
   "metadata": {},
   "outputs": [
    {
     "name": "stdout",
     "output_type": "stream",
     "text": [
      "Margin of Error: 0.015281912310894095\n"
     ]
    }
   ],
   "source": [
    "moe = 1.96 * np.sqrt(phat * (1 - phat) * (( 1/ float(w_ln)) + (1/float(b_ln))))\n",
    "print(\"Margin of Error: {}\".format(moe))"
   ]
  },
  {
   "cell_type": "markdown",
   "metadata": {},
   "source": [
    "    **confidence interval**"
   ]
  },
  {
   "cell_type": "code",
   "execution_count": 76,
   "metadata": {},
   "outputs": [
    {
     "name": "stdout",
     "output_type": "stream",
     "text": [
      "Confidence interval: [0.01675094 0.04731477]\n"
     ]
    }
   ],
   "source": [
    "ci = diff_mean + np.array([-1, 1]) * moe\n",
    "print(\"Confidence interval: {}\".format(ci))"
   ]
  },
  {
   "cell_type": "markdown",
   "metadata": {},
   "source": [
    "**i. Second Approach**"
   ]
  },
  {
   "cell_type": "code",
   "execution_count": 86,
   "metadata": {},
   "outputs": [],
   "source": [
    "white = sum(data[data.race=='w'].call) / len(data)\n",
    "black = sum(data[data.race=='b'].call) / len(data)\n",
    "w_and_b = sum(data.call) / len(data)"
   ]
  },
  {
   "cell_type": "code",
   "execution_count": 92,
   "metadata": {},
   "outputs": [
    {
     "data": {
      "text/plain": [
       "0.5994897959183674"
      ]
     },
     "execution_count": 92,
     "metadata": {},
     "output_type": "execute_result"
    }
   ],
   "source": [
    "## White-sounding names callbacks\n",
    "white/w_and_b"
   ]
  },
  {
   "cell_type": "code",
   "execution_count": 93,
   "metadata": {},
   "outputs": [
    {
     "data": {
      "text/plain": [
       "0.4005102040816327"
      ]
     },
     "execution_count": 93,
     "metadata": {},
     "output_type": "execute_result"
    }
   ],
   "source": [
    "## Black-sounding names callbacks\n",
    "black/w_and_b"
   ]
  },
  {
   "cell_type": "code",
   "execution_count": 97,
   "metadata": {},
   "outputs": [
    {
     "name": "stderr",
     "output_type": "stream",
     "text": [
      "/Users/amy/anaconda3/lib/python3.7/site-packages/scipy/stats/stats.py:1713: FutureWarning: Using a non-tuple sequence for multidimensional indexing is deprecated; use `arr[tuple(seq)]` instead of `arr[seq]`. In the future this will be interpreted as an array index, `arr[np.array(seq)]`, which will result either in an error or a different result.\n",
      "  return np.add.reduce(sorted[indexer] * weights, axis=axis) / sumval\n"
     ]
    },
    {
     "data": {
      "image/png": "[encoded data removed]",
      "text/plain": [
       "<Figure size 432x288 with 1 Axes>"
      ]
     },
     "metadata": {
      "needs_background": "light"
     },
     "output_type": "display_data"
    }
   ],
   "source": [
    "race_vs_call = data[['race','call']]\n",
    "sns.barplot(x='race', y='call', data=race_vs_call)\n",
    "plt.show()"
   ]
  },
  {
   "cell_type": "markdown",
   "metadata": {},
   "source": [
    "Compared to all applicants who got a callback, white sounding names got called back 59.95% of the time and black-sounding names got called back 40.05% of the time.\n",
    "Specifically, white-sounding names got 19.90% more callbacks than black-sounding names."
   ]
  },
  {
   "cell_type": "code",
   "execution_count": 94,
   "metadata": {},
   "outputs": [
    {
     "data": {
      "text/plain": [
       "Ttest_indResult(statistic=-4.114705290861751, pvalue=3.940802103128886e-05)"
      ]
     },
     "execution_count": 94,
     "metadata": {},
     "output_type": "execute_result"
    }
   ],
   "source": [
    "white_callback = data[data.race=='w'].call\n",
    "black_callback = data[data.race=='b'].call\n",
    "stats.ttest_ind(black_callback, white_callback)"
   ]
  },
  {
   "cell_type": "code",
   "execution_count": 95,
   "metadata": {},
   "outputs": [
    {
     "name": "stdout",
     "output_type": "stream",
     "text": [
      "White-sounding names\n",
      "Mean:  0.5994897959183674\n",
      "Margin of error:  0.013762244874422664\n",
      "Confidence interval:  0.5857275510439447 , 0.61325204079279\n"
     ]
    }
   ],
   "source": [
    "## White-sounding names\n",
    "ci = 1.96\n",
    "p = white/w_and_b\n",
    "margin_of_error = np.sqrt((p*(1-p)/len(data)))*ci\n",
    "ci_lo = p - margin_of_error\n",
    "ci_hi = p + margin_of_error\n",
    "print(\"White-sounding names\")\n",
    "print(\"Mean: \", p)\n",
    "print(\"Margin of error: \", margin_of_error)\n",
    "print(\"Confidence interval: \", ci_lo, ',', ci_hi)"
   ]
  },
  {
   "cell_type": "code",
   "execution_count": 96,
   "metadata": {},
   "outputs": [
    {
     "name": "stdout",
     "output_type": "stream",
     "text": [
      "Black-sounding names\n",
      "Mean:  0.4005102040816327\n",
      "Margin of error:  0.013762244874422664\n",
      "Confidence interval:  0.38674795920721 , 0.41427244895605536\n"
     ]
    }
   ],
   "source": [
    "## Black-sounding names\n",
    "ci = 1.96\n",
    "p = black/w_and_b\n",
    "margin_of_error = np.sqrt((p*(1-p)/len(data)))*ci\n",
    "ci_lo = p - margin_of_error\n",
    "ci_hi = p + margin_of_error\n",
    "print(\"Black-sounding names\")\n",
    "print(\"Mean: \", p)\n",
    "print(\"Margin of error: \", margin_of_error)\n",
    "print(\"Confidence interval: \", ci_lo, ',', ci_hi)"
   ]
  },
  {
   "cell_type": "markdown",
   "metadata": {},
   "source": [
    "**Conclusion:**\n",
    "\n",
    "The p-value is very low than 5% we can conclude that there is a significant difference between two groups, so the null hypothesis is rejected. There is sufficient evidence to warrant rejection of the claim that there is no difference in the proportion of callbacks for white-sounding names and the proportion of callbacks for black-sounding names."
   ]
  },
  {
   "cell_type": "markdown",
   "metadata": {},
   "source": [
    "## 4. Write a story describing the statistical significance in the context or the original problem."
   ]
  },
  {
   "cell_type": "markdown",
   "metadata": {},
   "source": [
    "\n",
    "Researchers randomly assigned identical resumes to black-sounding or white-sounding names and recorded the impact on requests for interviews from employers in order to study the effect of racial discrimination in the U.S. labor market. That analysis tested the effect of race on callback success. Assuming controls were appropriate for other factors related to callbacks, the statistics test indicates that racial discrimination in the United States labor market is significant.\n",
    "Given our sample data and our findings in this project, we can infer that a black- or white-sounding name on a resume has a significant effect on requests for interviews from employers. We also see that resumes with a white-sounding name see a 50% higher callback rate over resumes with a black-sounding name.\n",
    "Based on the result of p-value which is too close to 0, we have a strong evidence to reject the null hypothesis which we assumes at the beginning as no racial discrimination when calling back to resumes. We can say that there is a difference in the proportion of callbacks for white-sounding names and the proportion of callbacks for black-sounding names when returning to resumes. In a conclusion, our findings indicate a racial discrimination in USA job market when returning to resumes."
   ]
  },
  {
   "cell_type": "markdown",
   "metadata": {},
   "source": [
    "## 5. Does your analysis mean that race/name is the most important factor in callback success? Why or why not? If not, how would you amend your analysis?"
   ]
  },
  {
   "cell_type": "markdown",
   "metadata": {},
   "source": [
    "The analysis we made does not mean that race is the most crucial factor in callback success. Despite the test shows that callback rates differs, other variables as such year of experience, education or maybe military statistics might effect the callback rates and need to be also checked. It would be prudent to examine these other possible data points as they may be responsible for the significant difference in callback rate. We explored the data in a manner that is framed by the assumption that race plays a factor in callback rate. I think it would be logical to expand the analysis over the entire dataset. With this analysis, we can proceed confirming the effect of race on callback rates or perhaps find other factors which affect callback rates."
   ]
  }
 ],
 "metadata": {
  "kernelspec": {
   "display_name": "Python 3",
   "language": "python",
   "name": "python3"
  },
  "language_info": {
   "codemirror_mode": {
    "name": "ipython",
    "version": 3
   },
   "file_extension": ".py",
   "mimetype": "text/x-python",
   "name": "python",
   "nbconvert_exporter": "python",
   "pygments_lexer": "ipython3",
   "version": "3.7.2"
  }
 },
 "nbformat": 4,
 "nbformat_minor": 1
}
