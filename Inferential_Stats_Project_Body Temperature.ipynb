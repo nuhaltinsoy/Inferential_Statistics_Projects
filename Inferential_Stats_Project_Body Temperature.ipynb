{
 "cells": [
  {
   "cell_type": "markdown",
   "metadata": {},
   "source": [
    "# What is the True Normal Human Body Temperature? \n",
    "\n",
    "\n",
    "\n",
    "The mean normal body temperature was held to be 37$^{\\circ}$C or 98.6$^{\\circ}$F for more than 120 years since it was first conceptualized and reported by Carl Wunderlich in a famous 1868 book. But, is this value statistically correct?\n",
    "\n",
    "In this exercise, we will analyze a dataset of human body temperatures and employ the concepts of hypothesis testing, confidence intervals, and statistical significance."
   ]
  },
  {
   "cell_type": "code",
   "execution_count": 24,
   "metadata": {},
   "outputs": [],
   "source": [
    "# Import required packages:\n",
    "import pandas as pd\n",
    "import numpy as np\n",
    "import matplotlib.pyplot as plt\n",
    "%matplotlib inline\n",
    "import seaborn as sns\n",
    "from scipy import stats\n",
    "import matplotlib.mlab as mlab\n",
    "%matplotlib inline"
   ]
  },
  {
   "cell_type": "code",
   "execution_count": 25,
   "metadata": {},
   "outputs": [],
   "source": [
    "# Read and save dataset as a dataframe:\n",
    "df = pd.read_csv('data/human_body_temperature.csv')"
   ]
  },
  {
   "cell_type": "markdown",
   "metadata": {},
   "source": [
    "## Task 0-Initial Exploriation of Data"
   ]
  },
  {
   "cell_type": "code",
   "execution_count": 26,
   "metadata": {},
   "outputs": [
    {
     "data": {
      "text/html": [
       "<div>\n",
       "<style scoped>\n",
       "    .dataframe tbody tr th:only-of-type {\n",
       "        vertical-align: middle;\n",
       "    }\n",
       "\n",
       "    .dataframe tbody tr th {\n",
       "        vertical-align: top;\n",
       "    }\n",
       "\n",
       "    .dataframe thead th {\n",
       "        text-align: right;\n",
       "    }\n",
       "</style>\n",
       "<table border=\"1\" class=\"dataframe\">\n",
       "  <thead>\n",
       "    <tr style=\"text-align: right;\">\n",
       "      <th></th>\n",
       "      <th>temperature</th>\n",
       "      <th>gender</th>\n",
       "      <th>heart_rate</th>\n",
       "    </tr>\n",
       "  </thead>\n",
       "  <tbody>\n",
       "    <tr>\n",
       "      <th>0</th>\n",
       "      <td>99.3</td>\n",
       "      <td>F</td>\n",
       "      <td>68.0</td>\n",
       "    </tr>\n",
       "    <tr>\n",
       "      <th>1</th>\n",
       "      <td>98.4</td>\n",
       "      <td>F</td>\n",
       "      <td>81.0</td>\n",
       "    </tr>\n",
       "    <tr>\n",
       "      <th>2</th>\n",
       "      <td>97.8</td>\n",
       "      <td>M</td>\n",
       "      <td>73.0</td>\n",
       "    </tr>\n",
       "    <tr>\n",
       "      <th>3</th>\n",
       "      <td>99.2</td>\n",
       "      <td>F</td>\n",
       "      <td>66.0</td>\n",
       "    </tr>\n",
       "    <tr>\n",
       "      <th>4</th>\n",
       "      <td>98.0</td>\n",
       "      <td>F</td>\n",
       "      <td>73.0</td>\n",
       "    </tr>\n",
       "  </tbody>\n",
       "</table>\n",
       "</div>"
      ],
      "text/plain": [
       "   temperature gender  heart_rate\n",
       "0         99.3      F        68.0\n",
       "1         98.4      F        81.0\n",
       "2         97.8      M        73.0\n",
       "3         99.2      F        66.0\n",
       "4         98.0      F        73.0"
      ]
     },
     "execution_count": 26,
     "metadata": {},
     "output_type": "execute_result"
    }
   ],
   "source": [
    "df.head()"
   ]
  },
  {
   "cell_type": "code",
   "execution_count": 27,
   "metadata": {},
   "outputs": [
    {
     "name": "stdout",
     "output_type": "stream",
     "text": [
      "<class 'pandas.core.frame.DataFrame'>\n",
      "RangeIndex: 130 entries, 0 to 129\n",
      "Data columns (total 3 columns):\n",
      "temperature    130 non-null float64\n",
      "gender         130 non-null object\n",
      "heart_rate     130 non-null float64\n",
      "dtypes: float64(2), object(1)\n",
      "memory usage: 3.1+ KB\n"
     ]
    }
   ],
   "source": [
    "# Inspect the dataframe\n",
    "df.info()"
   ]
  },
  {
   "cell_type": "code",
   "execution_count": 28,
   "metadata": {},
   "outputs": [
    {
     "data": {
      "text/plain": [
       "temperature    0\n",
       "gender         0\n",
       "heart_rate     0\n",
       "dtype: int64"
      ]
     },
     "execution_count": 28,
     "metadata": {},
     "output_type": "execute_result"
    }
   ],
   "source": [
    "# Count null values for each column in the dataframe\n",
    "df.isnull().sum()"
   ]
  },
  {
   "cell_type": "code",
   "execution_count": 29,
   "metadata": {},
   "outputs": [
    {
     "data": {
      "text/html": [
       "<div>\n",
       "<style scoped>\n",
       "    .dataframe tbody tr th:only-of-type {\n",
       "        vertical-align: middle;\n",
       "    }\n",
       "\n",
       "    .dataframe tbody tr th {\n",
       "        vertical-align: top;\n",
       "    }\n",
       "\n",
       "    .dataframe thead th {\n",
       "        text-align: right;\n",
       "    }\n",
       "</style>\n",
       "<table border=\"1\" class=\"dataframe\">\n",
       "  <thead>\n",
       "    <tr style=\"text-align: right;\">\n",
       "      <th></th>\n",
       "      <th>temperature</th>\n",
       "      <th>gender</th>\n",
       "      <th>heart_rate</th>\n",
       "    </tr>\n",
       "  </thead>\n",
       "  <tbody>\n",
       "    <tr>\n",
       "      <th>7</th>\n",
       "      <td>98.8</td>\n",
       "      <td>M</td>\n",
       "      <td>78.0</td>\n",
       "    </tr>\n",
       "    <tr>\n",
       "      <th>54</th>\n",
       "      <td>98.2</td>\n",
       "      <td>F</td>\n",
       "      <td>73.0</td>\n",
       "    </tr>\n",
       "    <tr>\n",
       "      <th>72</th>\n",
       "      <td>98.0</td>\n",
       "      <td>M</td>\n",
       "      <td>78.0</td>\n",
       "    </tr>\n",
       "    <tr>\n",
       "      <th>75</th>\n",
       "      <td>98.8</td>\n",
       "      <td>M</td>\n",
       "      <td>78.0</td>\n",
       "    </tr>\n",
       "    <tr>\n",
       "      <th>87</th>\n",
       "      <td>98.0</td>\n",
       "      <td>M</td>\n",
       "      <td>78.0</td>\n",
       "    </tr>\n",
       "    <tr>\n",
       "      <th>127</th>\n",
       "      <td>98.2</td>\n",
       "      <td>F</td>\n",
       "      <td>73.0</td>\n",
       "    </tr>\n",
       "  </tbody>\n",
       "</table>\n",
       "</div>"
      ],
      "text/plain": [
       "     temperature gender  heart_rate\n",
       "7           98.8      M        78.0\n",
       "54          98.2      F        73.0\n",
       "72          98.0      M        78.0\n",
       "75          98.8      M        78.0\n",
       "87          98.0      M        78.0\n",
       "127         98.2      F        73.0"
      ]
     },
     "execution_count": 29,
     "metadata": {},
     "output_type": "execute_result"
    }
   ],
   "source": [
    "# Inspect the duplicate observations\n",
    "df[df.duplicated(keep=False)]"
   ]
  },
  {
   "cell_type": "markdown",
   "metadata": {},
   "source": [
    "Although they seem to be duplicate, they are just similar observations, for that reason, I prefer to keep these values instead of dropping them."
   ]
  },
  {
   "cell_type": "code",
   "execution_count": 30,
   "metadata": {},
   "outputs": [
    {
     "name": "stdout",
     "output_type": "stream",
     "text": [
      "The statistics of the data set:\n",
      "       temperature  heart_rate\n",
      "count   130.000000  130.000000\n",
      "mean     98.249231   73.761538\n",
      "std       0.733183    7.062077\n",
      "min      96.300000   57.000000\n",
      "25%      97.800000   69.000000\n",
      "50%      98.300000   74.000000\n",
      "75%      98.700000   79.000000\n",
      "max     100.800000   89.000000\n"
     ]
    }
   ],
   "source": [
    "print('The statistics of the data set:')\n",
    "print(df.describe())"
   ]
  },
  {
   "cell_type": "code",
   "execution_count": 31,
   "metadata": {},
   "outputs": [
    {
     "name": "stdout",
     "output_type": "stream",
     "text": [
      "The statistics of the data set based on gender\n",
      "The male population\n",
      "       temperature  heart_rate\n",
      "count    65.000000   65.000000\n",
      "mean     98.104615   73.369231\n",
      "std       0.698756    5.875184\n",
      "min      96.300000   58.000000\n",
      "25%      97.600000   70.000000\n",
      "50%      98.100000   73.000000\n",
      "75%      98.600000   78.000000\n",
      "max      99.500000   86.000000\n"
     ]
    }
   ],
   "source": [
    "print('The statistics of the data set based on gender')\n",
    "print('The male population')\n",
    "print(df[df.gender=='M'].describe())"
   ]
  },
  {
   "cell_type": "code",
   "execution_count": 32,
   "metadata": {},
   "outputs": [
    {
     "name": "stdout",
     "output_type": "stream",
     "text": [
      "The statistics of the data set based on gender\n",
      "The male population\n",
      "       temperature  heart_rate\n",
      "count    65.000000   65.000000\n",
      "mean     98.393846   74.153846\n",
      "std       0.743488    8.105227\n",
      "min      96.400000   57.000000\n",
      "25%      98.000000   68.000000\n",
      "50%      98.400000   76.000000\n",
      "75%      98.800000   80.000000\n",
      "max     100.800000   89.000000\n"
     ]
    }
   ],
   "source": [
    "print('The statistics of the data set based on gender')\n",
    "print('The male population')\n",
    "print(df[df.gender=='F'].describe())"
   ]
  },
  {
   "cell_type": "markdown",
   "metadata": {},
   "source": [
    "Based on our decriptive statistics, we can say that, females have higher mean and standard deviation on body temperature and heart rate.\n",
    "\n",
    "**Let's visualize the dataset to get more intuition about data.**"
   ]
  },
  {
   "cell_type": "code",
   "execution_count": 33,
   "metadata": {},
   "outputs": [
    {
     "data": {
      "image/png": "[encoded data removed]",
      "text/plain": [
       "<Figure size 576x504 with 1 Axes>"
      ]
     },
     "metadata": {
      "needs_background": "light"
     },
     "output_type": "display_data"
    }
   ],
   "source": [
    "# Lets visualize the body temperature difference based on gender \n",
    "plt.figure(figsize = (8,7))\n",
    "sns.boxplot(x='gender', y='temperature', data=df, boxprops = {'facecolor':'None'})\n",
    "sns.swarmplot(x = 'gender', y = 'temperature', data = df)\n",
    "\n",
    "# Label the axes\n",
    "plt.xlabel('gender')\n",
    "plt.ylabel('body temperature ($^.\\circ$F)')\n",
    "\n",
    "# Show the plot\n",
    "plt.show()"
   ]
  },
  {
   "cell_type": "code",
   "execution_count": 34,
   "metadata": {},
   "outputs": [
    {
     "data": {
      "image/png": "[encoded data removed]",
      "text/plain": [
       "<Figure size 576x504 with 1 Axes>"
      ]
     },
     "metadata": {
      "needs_background": "light"
     },
     "output_type": "display_data"
    }
   ],
   "source": [
    "# Lets visualize the heart rate difference based on gender \n",
    "plt.figure(figsize = (8,7))\n",
    "sns.boxplot(x='gender', y='heart_rate', data=df, boxprops = {'facecolor':'None'})\n",
    "sns.swarmplot(x = 'gender', y = 'heart_rate', data = df)\n",
    "\n",
    "# Label the axes\n",
    "plt.xlabel('gender')\n",
    "plt.ylabel('heart rate')\n",
    "\n",
    "# Show the plot\n",
    "plt.show()"
   ]
  },
  {
   "cell_type": "markdown",
   "metadata": {},
   "source": [
    "## Task-1: Is the distribution of body temperatures normal?"
   ]
  },
  {
   "cell_type": "markdown",
   "metadata": {},
   "source": [
    "__Normal distributions are characterized as being:__\n",
    "\n",
    ">a. Symmetrical, \n",
    "\n",
    ">b. Bell-shaped, \n",
    "\n",
    ">c. 68.27%, 95.45% and 99.73% of the observations falling within one, two and three standard deviations of the mean, respectively."
   ]
  },
  {
   "cell_type": "code",
   "execution_count": 40,
   "metadata": {},
   "outputs": [
    {
     "name": "stderr",
     "output_type": "stream",
     "text": [
      "/Users/amy/anaconda3/lib/python3.7/site-packages/scipy/stats/stats.py:1713: FutureWarning: Using a non-tuple sequence for multidimensional indexing is deprecated; use `arr[tuple(seq)]` instead of `arr[seq]`. In the future this will be interpreted as an array index, `arr[np.array(seq)]`, which will result either in an error or a different result.\n",
      "  return np.add.reduce(sorted[indexer] * weights, axis=axis) / sumval\n"
     ]
    },
    {
     "data": {
      "image/png": "[encoded data removed]",
      "text/plain": [
       "<Figure size 432x288 with 2 Axes>"
      ]
     },
     "metadata": {
      "needs_background": "light"
     },
     "output_type": "display_data"
    }
   ],
   "source": [
    "# Create a figure with two plots:\n",
    "fig, (boxplot, histogram) = plt.subplots(2, sharex=True, gridspec_kw={\"height_ratios\": (.15, .85)})\n",
    "\n",
    "\n",
    "# Add boxplot for temperature:\n",
    "sns.boxplot(df.temperature, ax = boxplot)\n",
    "\n",
    "# Add histogram for temperature:\n",
    "sns.distplot(df.temperature, ax = None)\n",
    "\n",
    "# Label axes and add title:\n",
    "plt.xlabel('Temperature ($^\\circ$F)', fontsize=10)\n",
    "plt.ylabel('PDF')\n",
    "plt.title('Distribution of Body Temperatures', fontsize=14)\n",
    "\n",
    "# Remove x-axis label for the boxplot:\n",
    "boxplot.set(xlabel = \" \")\n",
    "\n",
    "# Display the plots:\n",
    "plt.show()"
   ]
  },
  {
   "cell_type": "code",
   "execution_count": 41,
   "metadata": {},
   "outputs": [],
   "source": [
    "# Define a function to compute the CDF\n",
    "\n",
    "def ecdf(data):\n",
    "    \"\"\"Compute ECDF for a one-dimensional array of measurements.\"\"\"\n",
    "    # Number of data points: n\n",
    "    n = len(data)\n",
    "\n",
    "    # x-data for the ECDF: x\n",
    "    x = np.sort(data)\n",
    "\n",
    "    # y-data for the ECDF: y\n",
    "    y = np.arange(1, n+1) / n\n",
    "\n",
    "    return x, y"
   ]
  },
  {
   "cell_type": "code",
   "execution_count": 42,
   "metadata": {},
   "outputs": [
    {
     "data": {
      "image/png": "[encoded data removed]",
      "text/plain": [
       "<Figure size 432x288 with 1 Axes>"
      ]
     },
     "metadata": {
      "needs_background": "light"
     },
     "output_type": "display_data"
    }
   ],
   "source": [
    "# Mean and standard deviation of our sample\n",
    "mean = np.mean(df.temperature)\n",
    "std = np.std(df.temperature)\n",
    "\n",
    "\n",
    "# Simulate a random sample with the same statistics and size of 10000\n",
    "normal_samples = np.random.normal(mean, std, size=10000)\n",
    "\n",
    "# Compute CDFs\n",
    "x_sample, y_sample = ecdf(df.temperature)\n",
    "x_normal , y_normal = ecdf(normal_samples) \n",
    "\n",
    "\n",
    "# Plot both CDFs on the same plot\n",
    "plt.plot(x_normal, y_normal)\n",
    "plt.plot(x_sample, y_sample, marker='v', linestyle='none')\n",
    "\n",
    "# Label axes and and add legend/title\n",
    "\n",
    "plt.xlabel('body temperature ($^\\circ$F)', fontsize = 14)\n",
    "plt.ylabel('CDF')\n",
    "plt.legend(('Normal CDF', 'Sample CDF'), loc = 'lower right')\n",
    "plt.title('CDF Confirming the Normal Distribution of Body Temperatures', fontsize=16)\n",
    "\n",
    "\n",
    "# Save and display the plots\n",
    "plt.savefig('cdf_body_temps.png')\n",
    "plt.show()\n",
    "\n",
    "#plt.rcParams['axes.facecolor'] = 'false'"
   ]
  },
  {
   "cell_type": "markdown",
   "metadata": {},
   "source": [
    "The yellow dots represent the ECDF of body temperatures from the sample data. The black continuous line shows the ECDF of a presumed normal distribution  We can easily see that these two lines overlap each other.  So, we can conclude that our sample also resembles normal distribution. "
   ]
  },
  {
   "cell_type": "markdown",
   "metadata": {},
   "source": [
    "For the sake of thoroughness, let us also check to see if the sample set confirms to the 68.27%, 95.45% and 99.73% rule. "
   ]
  },
  {
   "cell_type": "code",
   "execution_count": 43,
   "metadata": {},
   "outputs": [
    {
     "name": "stdout",
     "output_type": "stream",
     "text": [
      "The mean of human temperature data set: 98.24923076923078\n",
      "The standard deviation in human temperature data set: 0.7303577789050377\n"
     ]
    }
   ],
   "source": [
    "# Sample mean and standard deviation\n",
    "print(\"The mean of human temperature data set: {}\".format(mean))\n",
    "print(\"The standard deviation in human temperature data set: {}\".format(std))"
   ]
  },
  {
   "cell_type": "code",
   "execution_count": 45,
   "metadata": {},
   "outputs": [
    {
     "name": "stdout",
     "output_type": "stream",
     "text": [
      "Number  of observations within three standard deviations of the mean: 129\n",
      "Total number of observations is 130\n",
      "Proportion of observations within three standard deviations of the mean: 0.9923076923076923\n"
     ]
    }
   ],
   "source": [
    "np_sample = df.temperature.values\n",
    "num_obs = len(np_sample[(np_sample > mean-3*std) & (np_sample < mean+3*std)])\n",
    "print('Number  of observations within three standard deviations of the mean: {}'.format(num_obs))\n",
    "print(\"Total number of observations is {}\".format(len(df)))\n",
    "prop_obs = float(num_obs) / len(np_sample)\n",
    "print('Proportion of observations within three standard deviations of the mean: {}'.format(prop_obs))"
   ]
  },
  {
   "cell_type": "code",
   "execution_count": 46,
   "metadata": {},
   "outputs": [
    {
     "name": "stdout",
     "output_type": "stream",
     "text": [
      "Number  of observations within three standard deviations of the mean: 123\n",
      "Total number of observations is 130\n",
      "Proportion of observations within three standard deviations of the mean: 0.9461538461538461\n"
     ]
    }
   ],
   "source": [
    "np_sample = df.temperature.values\n",
    "num_obs = len(np_sample[(np_sample > mean-2*std) & (np_sample < mean+2*std)])\n",
    "print('Number  of observations within three standard deviations of the mean: {}'.format(num_obs))\n",
    "print(\"Total number of observations is {}\".format(len(df)))\n",
    "prop_obs = float(num_obs) / len(np_sample)\n",
    "print('Proportion of observations within three standard deviations of the mean: {}'.format(prop_obs))"
   ]
  },
  {
   "cell_type": "code",
   "execution_count": 47,
   "metadata": {},
   "outputs": [
    {
     "name": "stdout",
     "output_type": "stream",
     "text": [
      "Number  of observations within three standard deviations of the mean: 90\n",
      "Total number of observations is 130\n",
      "Proportion of observations within three standard deviations of the mean: 0.6923076923076923\n"
     ]
    }
   ],
   "source": [
    "np_sample = df.temperature.values\n",
    "num_obs = len(np_sample[(np_sample > mean-1*std) & (np_sample < mean+1*std)])\n",
    "print('Number  of observations within three standard deviations of the mean: {}'.format(num_obs))\n",
    "print(\"Total number of observations is {}\".format(len(df)))\n",
    "prop_obs = float(num_obs) / len(np_sample)\n",
    "print('Proportion of observations within three standard deviations of the mean: {}'.format(prop_obs))"
   ]
  },
  {
   "cell_type": "markdown",
   "metadata": {},
   "source": [
    "#### The shortest way for this question."
   ]
  },
  {
   "cell_type": "code",
   "execution_count": 99,
   "metadata": {},
   "outputs": [
    {
     "name": "stdout",
     "output_type": "stream",
     "text": [
      "p = 0.2587479863488254\n"
     ]
    }
   ],
   "source": [
    "k2, p = stats.normaltest(df.temperature)\n",
    "print(\"p = {}\".format(p))"
   ]
  },
  {
   "cell_type": "code",
   "execution_count": 100,
   "metadata": {},
   "outputs": [
    {
     "name": "stdout",
     "output_type": "stream",
     "text": [
      "Distribution of Body Temperature is Normal\n"
     ]
    }
   ],
   "source": [
    "alpha = 0.05\n",
    "if p < alpha:  # null hypothesis: x comes from a normal distribution\n",
    "    print(\"Distribution of Body Temperature iS NOT Normal\")\n",
    "else:\n",
    "    print(\"Distribution of Body Temperature is Normal\")"
   ]
  },
  {
   "cell_type": "markdown",
   "metadata": {},
   "source": [
    "### Conclusion: \n",
    "\n",
    "The distribution of the observations is roughly symmetrical, bell-shaped, and the CDF of the sample data is closely aligned with a CDF of a sample set that is modeled as a normal distribution. Besides all, the sample set conforms to the characteristic that 68% of observations are within 1 standard deviation, 95% of observations are within 2 standard deviations and 99% of observations are within 3 standard deviations. Based on all these observations, we can say that distribution of body temperature is normal.  "
   ]
  },
  {
   "cell_type": "markdown",
   "metadata": {},
   "source": [
    "## Task-2: Is the sample size large? Are the observations independent?"
   ]
  },
  {
   "cell_type": "markdown",
   "metadata": {},
   "source": [
    "### a. Is 130 people adequate for a sample size?"
   ]
  },
  {
   "cell_type": "markdown",
   "metadata": {},
   "source": [
    "#### i. first approach:"
   ]
  },
  {
   "cell_type": "markdown",
   "metadata": {},
   "source": [
    "According to central limit theorem, our sample should be at least 30. As our sample is 130, our sample data set is adequate. "
   ]
  },
  {
   "cell_type": "markdown",
   "metadata": {},
   "source": [
    "####  ii. second approach\n",
    "\n",
    "Since we don't have the population ready, we can redirect our approach into confidence levels and margin of error.\n",
    "For example, it's desirable to have a 95% confidence rate ± 5% as a margin of error.\n",
    "For this to work we would need a minimum sample size to be 95 ± 5% confident."
   ]
  },
  {
   "cell_type": "code",
   "execution_count": 50,
   "metadata": {},
   "outputs": [
    {
     "data": {
      "image/png": "[encoded data removed]",
      "text/plain": [
       "<IPython.core.display.Image object>"
      ]
     },
     "metadata": {},
     "output_type": "display_data"
    },
    {
     "data": {
      "image/png": "[encoded data removed]",
      "text/plain": [
       "<IPython.core.display.Image object>"
      ]
     },
     "metadata": {},
     "output_type": "display_data"
    }
   ],
   "source": [
    "from IPython.display import display, Image\n",
    "display(Image(filename='Sample_size.png'))\n",
    "display(Image(filename='Z_score.png'))"
   ]
  },
  {
   "cell_type": "code",
   "execution_count": 51,
   "metadata": {},
   "outputs": [],
   "source": [
    "def nec_samp_size(popsize, marginoferror, zscore):\n",
    "    stdev = 0.50\n",
    "    x = (zscore**2) * (stdev) * (1-stdev)\n",
    "    y = marginoferror**2\n",
    "    z = y*popsize\n",
    "    a = x / y\n",
    "    b = x / z\n",
    "    nec_samp_size = a / (1 + b)\n",
    "    print(\"Necessary sample size: \", '%.0f' % nec_samp_size)"
   ]
  },
  {
   "cell_type": "code",
   "execution_count": 52,
   "metadata": {},
   "outputs": [
    {
     "name": "stdout",
     "output_type": "stream",
     "text": [
      "Necessary sample size:  384\n"
     ]
    }
   ],
   "source": [
    "nec_samp_size(1000000, 0.05, 1.96)"
   ]
  },
  {
   "cell_type": "code",
   "execution_count": 53,
   "metadata": {},
   "outputs": [
    {
     "name": "stdout",
     "output_type": "stream",
     "text": [
      "Actual sample size: 130\n"
     ]
    }
   ],
   "source": [
    "print(\"Actual sample size:\", len(df))"
   ]
  },
  {
   "cell_type": "markdown",
   "metadata": {},
   "source": [
    "So assuming that our population is at least 1 million people, we would need at least 384 respondants to be 95 ± 5% confident.\n",
    "However, we only have 180 respondants. Thus, our sample size is too small for our desired parameters.\n",
    "Let's change our standards to 90 ± 10% confident."
   ]
  },
  {
   "cell_type": "code",
   "execution_count": 54,
   "metadata": {},
   "outputs": [
    {
     "name": "stdout",
     "output_type": "stream",
     "text": [
      "Necessary sample size:  68\n"
     ]
    }
   ],
   "source": [
    "nec_samp_size(1000000, 0.10, 1.65)"
   ]
  },
  {
   "cell_type": "markdown",
   "metadata": {},
   "source": [
    "Since the necessary sample size for 90 ± 10% confidence is at least 68 respondance for 1 million people, we can say that our sample size is adequate!"
   ]
  },
  {
   "cell_type": "markdown",
   "metadata": {},
   "source": [
    "### b. Are the observations independent?"
   ]
  },
  {
   "cell_type": "markdown",
   "metadata": {},
   "source": [
    "**Conclusion:**\n",
    "Two observations are independent if the occurrence of one observation is free from the occurrence of another observation. And this is the case for our sample. They are independent."
   ]
  },
  {
   "cell_type": "markdown",
   "metadata": {},
   "source": [
    "Although what we do now has nothing to do with the dependency of observations, let's look at the correlation of these two variables"
   ]
  },
  {
   "cell_type": "code",
   "execution_count": 55,
   "metadata": {},
   "outputs": [
    {
     "data": {
      "text/plain": [
       "<matplotlib.collections.PathCollection at 0x1a1dec36d8>"
      ]
     },
     "execution_count": 55,
     "metadata": {},
     "output_type": "execute_result"
    },
    {
     "data": {
      "image/png": "[encoded data removed]",
      "text/plain": [
       "<Figure size 432x288 with 1 Axes>"
      ]
     },
     "metadata": {
      "needs_background": "light"
     },
     "output_type": "display_data"
    }
   ],
   "source": [
    "plt.scatter(df.temperature[df.gender =='M'], df.heart_rate[df.gender == 'M'], color = 'blue', marker = '.', norm = True)\n",
    "plt.scatter(df.temperature[df.gender =='F'], df.heart_rate[df.gender == 'F'], color = 'red', marker = '.', norm = True)\n"
   ]
  },
  {
   "cell_type": "code",
   "execution_count": 96,
   "metadata": {},
   "outputs": [
    {
     "data": {
      "image/png": "[encoded data removed]",
      "text/plain": [
       "<Figure size 432x288 with 1 Axes>"
      ]
     },
     "metadata": {
      "needs_background": "light"
     },
     "output_type": "display_data"
    }
   ],
   "source": [
    "xm, ym = np.polyfit(df[df.gender=='M']['temperature'], df[df.gender=='M']['heart_rate'], 1)\n",
    "xf, yf = np.polyfit(df[df.gender=='F']['temperature'], df[df.gender=='F']['heart_rate'], 1)\n",
    "\n",
    "# Make theoretical line to plot\n",
    "x = np.array([95,102])\n",
    "y_m = xm * x + ym\n",
    "y_f = xf * x + yf\n",
    "\n",
    "# Add regression line to your plot\n",
    "plt.plot(x, y_m, color='blue')\n",
    "plt.plot(x, y_f, color='red')\n",
    "plt.legend(('Male','Female'))\n",
    "plt.xlabel(\"Body Temperature($^\\circ$F)\")\n",
    "plt.ylabel(\"Heart Rate\")\n",
    "plt.title('Correlation Between Body Temperature and Heart Rate')\n",
    "plt.margins(0.02)"
   ]
  },
  {
   "cell_type": "code",
   "execution_count": 57,
   "metadata": {},
   "outputs": [
    {
     "data": {
      "image/png": "[encoded data removed]",
      "text/plain": [
       "<Figure size 720x432 with 1 Axes>"
      ]
     },
     "metadata": {
      "needs_background": "light"
     },
     "output_type": "display_data"
    }
   ],
   "source": [
    "# Make a scatter plot\n",
    "plt.figure(figsize = (10,6))\n",
    "plt.scatter(df.temperature[df.gender =='M'], df.heart_rate[df.gender == 'M'], color = 'blue', marker = '.', norm = True)\n",
    "plt.scatter(df.temperature[df.gender =='F'], df.heart_rate[df.gender == 'F'], color = 'red', marker = '.', norm = True)\n",
    "\n",
    "# Create the data set for our regression lines (line of best fit)\n",
    "xm, ym = np.polyfit(df[df.gender=='M']['temperature'], df[df.gender=='M']['heart_rate'], 1)\n",
    "xf, yf = np.polyfit(df[df.gender=='F']['temperature'], df[df.gender=='F']['heart_rate'], 1)\n",
    "\n",
    "# Create the equtions of lines to plot\n",
    "x = np.array([95,102])\n",
    "y_m = xm * x + ym\n",
    "y_f = xf * x + yf\n",
    "\n",
    "# Add regression lines to your plot\n",
    "plt.plot(x, y_m, color='blue')\n",
    "plt.plot(x, y_f, color='red')\n",
    "plt.legend(('Male','Female'))\n",
    "plt.xlabel(\"Body Temperature($^\\circ$F)\")\n",
    "plt.ylabel(\"Heart Rate\")\n",
    "plt.title('Correlation Between Body Temperature and Heart Rate')\n",
    "plt.margins(0.02)"
   ]
  },
  {
   "cell_type": "markdown",
   "metadata": {},
   "source": [
    "There is a possitive correlation between body temperature and health rate. Let's look at pearson correlation values of those observations."
   ]
  },
  {
   "cell_type": "markdown",
   "metadata": {},
   "source": [
    "So, let's look at their Pearson's Correlation Coefficient:"
   ]
  },
  {
   "cell_type": "code",
   "execution_count": 58,
   "metadata": {},
   "outputs": [
    {
     "name": "stdout",
     "output_type": "stream",
     "text": [
      "0.2536564027207642\n"
     ]
    }
   ],
   "source": [
    "corr_mat = np.corrcoef(df['temperature'],df['heart_rate'])\n",
    "print(corr_mat[0,1])"
   ]
  },
  {
   "cell_type": "markdown",
   "metadata": {},
   "source": [
    "Pearson correlation values are very low. It may be interpreted as a very weak positive correlation between heart rate and body temperature."
   ]
  },
  {
   "cell_type": "markdown",
   "metadata": {},
   "source": [
    "## Task-3: Is the true population mean really 98.6 degrees F?\n",
    "    \n",
    "    First, try a bootstrap hypothesis test.\n",
    "    Secondly, try frequentist statistical testing. Would you use a one-sample or two-sample test? Why?\n",
    "    In this situation, is it appropriate to use the  t or  z statistic?\n",
    "    Now try using the other test. How is the result be different? Why?"
   ]
  },
  {
   "cell_type": "markdown",
   "metadata": {},
   "source": [
    "### a. bootstrap hypothesis test\n",
    "\n",
    "our hypothesis for this testing:\n",
    "\n",
    "(The null hypothesis) Ho: The population mean temperature = 98.6 F (Ho: μ1 = μ)\n",
    "\n",
    "(The alternative hypothesis) Ha: The population mean temperature ≠ 98.6 F (H1: μ1 ≠ μ)"
   ]
  },
  {
   "cell_type": "code",
   "execution_count": 72,
   "metadata": {},
   "outputs": [],
   "source": [
    "def bootstrap_replicate_1d(data, func):\n",
    "    \"\"\"Generate bootstrap replicate of 1D data.\"\"\"\n",
    "    bs_sample = np.random.choice(data, len(data))\n",
    "    return func(bs_sample)"
   ]
  },
  {
   "cell_type": "code",
   "execution_count": 73,
   "metadata": {},
   "outputs": [],
   "source": [
    "bs_replicates = np.empty(10000)\n",
    "for i in range(10000):\n",
    "    bs_replicates[i] = bootstrap_replicate_1d(df['temperature'], np.mean)"
   ]
  },
  {
   "cell_type": "code",
   "execution_count": 74,
   "metadata": {},
   "outputs": [
    {
     "name": "stderr",
     "output_type": "stream",
     "text": [
      "/Users/amy/anaconda3/lib/python3.7/site-packages/scipy/stats/stats.py:1713: FutureWarning: Using a non-tuple sequence for multidimensional indexing is deprecated; use `arr[tuple(seq)]` instead of `arr[seq]`. In the future this will be interpreted as an array index, `arr[np.array(seq)]`, which will result either in an error or a different result.\n",
      "  return np.add.reduce(sorted[indexer] * weights, axis=axis) / sumval\n"
     ]
    },
    {
     "data": {
      "image/png": "[encoded data removed]",
      "text/plain": [
       "<Figure size 432x288 with 1 Axes>"
      ]
     },
     "metadata": {
      "needs_background": "light"
     },
     "output_type": "display_data"
    }
   ],
   "source": [
    "sns.distplot(bs_replicates, rug='True', bins=20, color = 'red')\n",
    "plt.xlabel('body temperature (F)')\n",
    "plt.ylabel('PDF')\n",
    "plt.show()"
   ]
  },
  {
   "cell_type": "code",
   "execution_count": 75,
   "metadata": {},
   "outputs": [
    {
     "name": "stdout",
     "output_type": "stream",
     "text": [
      "95% confidence interval = [98.12230769 98.37692308]\n"
     ]
    }
   ],
   "source": [
    "# Compute the confidence interval\n",
    "conf_int = np.percentile(bs_replicates, [2.5, 97.5])\n",
    "\n",
    "# Print the confidence interval\n",
    "print ('95% confidence interval =',conf_int)"
   ]
  },
  {
   "cell_type": "code",
   "execution_count": 76,
   "metadata": {},
   "outputs": [
    {
     "name": "stdout",
     "output_type": "stream",
     "text": [
      "p-value =  0.0\n"
     ]
    }
   ],
   "source": [
    "# Compute the p-value\n",
    "\n",
    "p_value = np.sum(bs_replicates >=98.6) / 10000\n",
    "print ('p-value = ', p_value)"
   ]
  },
  {
   "cell_type": "markdown",
   "metadata": {},
   "source": [
    "**Conclusion for the bootstrap hypothesis test:**\n",
    "\n",
    "Since p-value is less than 0.05, we reject the null hypothesis, which states that population mean and the sample means are equal. Our conclusion is that the population mean differs from 98.6 F. Based on the 95% confidence interval, temperatures between 98.12 and 98.37 are considered normal."
   ]
  },
  {
   "cell_type": "markdown",
   "metadata": {},
   "source": [
    "### b. Try frequentist statistical testing. Would you use a one-sample or two-sample test? Why?"
   ]
  },
  {
   "cell_type": "markdown",
   "metadata": {},
   "source": [
    "For this test, we will use a one-sample test since we are only given one sample mean. The confidence level is 95%:\n",
    "    \n",
    "    (The null hypothesis) Ho: The population mean temperature = 98.6 F   (Ho: μ1 = μ)\n",
    "\n",
    "    (The alternative hypothesis) Ha: The population mean temperature ≠ 98.6 F  (H1: μ1 ≠ μ)"
   ]
  },
  {
   "cell_type": "markdown",
   "metadata": {},
   "source": [
    "**i. t-test:**"
   ]
  },
  {
   "cell_type": "code",
   "execution_count": 64,
   "metadata": {},
   "outputs": [
    {
     "name": "stdout",
     "output_type": "stream",
     "text": [
      "t-statistic: -5.4548232923645195\n",
      "p-value: 2.4106320415561276e-07\n"
     ]
    }
   ],
   "source": [
    "# Use one-sample test with the null hypothesis that true population mean is 98.6\n",
    "# Since we do not know the population standard deviation, we will use t-statistic. \n",
    "\n",
    "t, p = stats.ttest_1samp(df.temperature, 98.6)\n",
    "print('t-statistic:', t)\n",
    "print('p-value:', p)"
   ]
  },
  {
   "cell_type": "markdown",
   "metadata": {},
   "source": [
    "**Conclusion:**\n",
    "Our p-value is less than 0.05, so we reject Ho. "
   ]
  },
  {
   "cell_type": "markdown",
   "metadata": {},
   "source": [
    "**ii. z-test:** "
   ]
  },
  {
   "cell_type": "code",
   "execution_count": 68,
   "metadata": {},
   "outputs": [
    {
     "name": "stdout",
     "output_type": "stream",
     "text": [
      "z-statistic: -5.475925202078116\n",
      "p-value: 4.3523151658821886e-08\n"
     ]
    }
   ],
   "source": [
    "# Calculate standard error of the mean:\n",
    "sem = std/np.sqrt(130)\n",
    "\n",
    "# Calculate and save z-statistic:\n",
    "z = (mean - 98.6) / sem\n",
    "\n",
    "# Calculate and save p-value:\n",
    "p = stats.norm.cdf(z) * 2\n",
    "\n",
    "# Print the values for z and p:\n",
    "print('z-statistic:', z)\n",
    "print('p-value:', p)"
   ]
  },
  {
   "cell_type": "markdown",
   "metadata": {},
   "source": [
    "**Conclusion:**\n",
    "Our p-value is less than 0.05, so we reject Ho."
   ]
  },
  {
   "cell_type": "markdown",
   "metadata": {},
   "source": [
    "### c. In this situation, is it appropriate to use the t or z statistics?"
   ]
  },
  {
   "cell_type": "markdown",
   "metadata": {},
   "source": [
    "It seems that both tets gave the same result. So either of them can be used for it."
   ]
  },
  {
   "cell_type": "markdown",
   "metadata": {},
   "source": [
    "### d. Try using the other test. How is the result be different? Why? "
   ]
  },
  {
   "cell_type": "markdown",
   "metadata": {},
   "source": [
    "Actually, this question's answer was given above. I tried t and z test. In every test the p-value is significantly less than significance level (0.05), so the null hypothesis is rejected. It means that population mean is different from sample mean."
   ]
  },
  {
   "cell_type": "markdown",
   "metadata": {},
   "source": [
    "## Task-4: Draw a small sample of size 10 from the data and repeat both frequentist tests.\n",
    "\n",
    "    Which one is the correct one to use?\n",
    "    What do you notice? What does this tell you about the difference in application of the  t and  z statistic?"
   ]
  },
  {
   "cell_type": "markdown",
   "metadata": {},
   "source": [
    "### a. Which one is the correct one to use?"
   ]
  },
  {
   "cell_type": "markdown",
   "metadata": {},
   "source": [
    "This test meets the criteria for a t-test: the population standard deviation is unkown and the sample size is small."
   ]
  },
  {
   "cell_type": "code",
   "execution_count": 88,
   "metadata": {},
   "outputs": [
    {
     "name": "stdout",
     "output_type": "stream",
     "text": [
      "p-value: 0.5133\n"
     ]
    }
   ],
   "source": [
    "## Bootstrap method\n",
    "\n",
    "# Randomly select a size 10 array: \n",
    "temp_array_sub = np.random.choice(bs_replicates, size=10, replace=True)\n",
    "\n",
    "cc_replicates = np.empty(10000)\n",
    "for i in range(10000):\n",
    "    cc_replicates[i] = bootstrap_replicate_1d(temp_array_sub, np.mean)\n",
    "\n",
    "\n",
    "# Compute fraction of replicates that are less than sampled body temperatures: p\n",
    "p = np.sum(cc_replicates >= np.mean(temp_array_sub)) / float(10000)\n",
    "\n",
    "# Print the p-value\n",
    "print ('p-value: {}'.format(p))"
   ]
  },
  {
   "cell_type": "code",
   "execution_count": 87,
   "metadata": {},
   "outputs": [
    {
     "name": "stdout",
     "output_type": "stream",
     "text": [
      "t-statistic: -0.850103680423865\n",
      "p-value: 0.3952878001915794\n"
     ]
    }
   ],
   "source": [
    "## t-test\n",
    "sample_mean = np.mean(temp_array_sub)\n",
    "t, p = stats.ttest_1samp(cc_replicates, sample_mean)\n",
    "print('t-statistic:', t)\n",
    "print('p-value:', p)"
   ]
  },
  {
   "cell_type": "code",
   "execution_count": 91,
   "metadata": {},
   "outputs": [
    {
     "name": "stdout",
     "output_type": "stream",
     "text": [
      "z-statistic: -28.89599495617253\n",
      "p-value: 1.3406054472636544e-183\n"
     ]
    }
   ],
   "source": [
    "## z-test\n",
    "sample_mean = np.mean(temp_array_sub) \n",
    "sample_std  = np.std(temp_array_sub)\n",
    "\n",
    "# Calculate standard error of the mean:\n",
    "sem = sample_std /np.sqrt(10)\n",
    "\n",
    "# Calculate and save z-statistic:\n",
    "z = (sample_mean - 98.6) / sem\n",
    "\n",
    "# Calculate and save p-value:\n",
    "p = stats.norm.cdf(z) * 2\n",
    "\n",
    "# Print the values for z and p:\n",
    "print('z-statistic:', z)\n",
    "print('p-value:', p)"
   ]
  },
  {
   "cell_type": "markdown",
   "metadata": {},
   "source": [
    "#### Conclusion: \n",
    "\n",
    "As p value are too low."
   ]
  },
  {
   "cell_type": "markdown",
   "metadata": {},
   "source": [
    "## Task-5: At what temperature should we consider someone's temperature to be \"abnormal\"?\n",
    "\n",
    "    As in the previous example, try calculating everything using the boostrap approach, as well as the frequentist  approach.\n",
    "    Start by computing the margin of error and confidence interval. \n",
    "    When calculating the confidence interval, keep in mind that you should use the appropriate formula for one draw, and not N draws."
   ]
  },
  {
   "cell_type": "markdown",
   "metadata": {},
   "source": [
    "We will get a 95% confidence interval according to the normal distribution to find out abnormals."
   ]
  },
  {
   "cell_type": "markdown",
   "metadata": {},
   "source": [
    "### a.Bootstrap Approach"
   ]
  },
  {
   "cell_type": "code",
   "execution_count": 102,
   "metadata": {},
   "outputs": [
    {
     "name": "stdout",
     "output_type": "stream",
     "text": [
      "95 % confidence interval = [98.12230769 98.37692308]\n"
     ]
    }
   ],
   "source": [
    "# Compute the confidence interval\n",
    "conf_int = np.percentile(bs_replicates,[2.5, 97.5])\n",
    "\n",
    "# Print the confidence interval\n",
    "print('95 % confidence interval = {}'.format(conf_int))"
   ]
  },
  {
   "cell_type": "markdown",
   "metadata": {},
   "source": [
    "**Conclusion:**\n",
    "\n",
    "We would consider someone's body temperature lower than 98.12 or higher than 98.38 to be considered abnormal."
   ]
  },
  {
   "cell_type": "markdown",
   "metadata": {},
   "source": [
    "### b.Frequentist Approach¶"
   ]
  },
  {
   "cell_type": "code",
   "execution_count": 108,
   "metadata": {},
   "outputs": [
    {
     "data": {
      "text/plain": [
       "(98.12200290560804, 98.37645863285351)"
      ]
     },
     "execution_count": 108,
     "metadata": {},
     "output_type": "execute_result"
    }
   ],
   "source": [
    "\n",
    "x = df.temperature\n",
    "n = len(x)\n",
    "\n",
    "SE = stats.sem(x, ddof = 1) # ddof = 1 is default -- Delta Degrees of Freedom\n",
    "#SE = (x.std()/np.sqrt(len(x)))\n",
    "\n",
    "# t-critical at 95% confidence Level with 129 degrees of freedom\n",
    "t_c = stats.t.ppf(0.975, df=n-1) \n",
    "\n",
    "# Margin of Error\n",
    "moe = t_c * SE\n",
    "\n",
    "# Confidence Interval\n",
    "Confidence_int = x.mean() - moe , x.mean() + moe\n",
    "Confidence_int"
   ]
  },
  {
   "cell_type": "markdown",
   "metadata": {},
   "source": [
    "**Conclusion:**\n",
    "\n",
    "We would consider someone's body temperature abnormal if it is out of interval stated above."
   ]
  }
 ],
 "metadata": {
  "kernelspec": {
   "display_name": "Python 3",
   "language": "python",
   "name": "python3"
  },
  "language_info": {
   "codemirror_mode": {
    "name": "ipython",
    "version": 3
   },
   "file_extension": ".py",
   "mimetype": "text/x-python",
   "name": "python",
   "nbconvert_exporter": "python",
   "pygments_lexer": "ipython3",
   "version": "3.7.2"
  }
 },
 "nbformat": 4,
 "nbformat_minor": 1
}
